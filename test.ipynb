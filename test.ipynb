{
 "cells": [
  {
   "cell_type": "code",
   "execution_count": null,
   "metadata": {},
   "outputs": [],
   "source": [
    "import pandas as pd\n",
    "from matplotlib import pyplot as plt\n",
    "import numpy as np\n",
    "office = pd.read_csv(\"datasets/office_episodes.csv\")\n",
    "office.set_index(\"episode_number\")\n",
    "#print(office)\n"
   ]
  },
  {
   "cell_type": "code",
   "execution_count": 34,
   "metadata": {},
   "outputs": [
    {
     "name": "stdout",
     "output_type": "stream",
     "text": [
      "current highest: 11.2\n",
      "current highest: 22.91\n"
     ]
    }
   ],
   "source": [
    "# find most watched ep# iterate over df col \"viewership_mil\" & find max val\n",
    "#office.loc[13, 'viewership_mil']\n",
    "most_views = 0.0\n",
    "for x in range(188):\n",
    "    x = office.loc[x, \"viewership_mil\"]\n",
    "    if x == most_views:\n",
    "        next\n",
    "    if x > most_views:\n",
    "        most_views = x\n",
    "#        print(\"current highest: \" + str(most_views))\n",
    "# ok so theres never any dupes, largest = 22.91\n",
    "#ok but now must get the GUEST STAR list for that maxed ep\n",
    "\n",
    "\n",
    "\n"
   ]
  },
  {
   "cell_type": "code",
   "execution_count": null,
   "metadata": {},
   "outputs": [],
   "source": [
    "#  data setup\n",
    "plt.title(\"Popularity, Quality, and Guest Appearances on the Office\")\n",
    "plt.xlabel(\"Episode Number\")\n",
    "plt.ylabel(\"Viewership (Millions)\")\n"
   ]
  }
 ],
 "metadata": {
  "kernelspec": {
   "display_name": "Python 3",
   "language": "python",
   "name": "python3"
  },
  "language_info": {
   "codemirror_mode": {
    "name": "ipython",
    "version": 3
   },
   "file_extension": ".py",
   "mimetype": "text/x-python",
   "name": "python",
   "nbconvert_exporter": "python",
   "pygments_lexer": "ipython3",
   "version": "3.10.8"
  },
  "orig_nbformat": 4,
  "vscode": {
   "interpreter": {
    "hash": "8e3df8c37403ba4b3c8bfde5a26f1f7f6e1b2866f6dc0cdafb75725c9232505a"
   }
  }
 },
 "nbformat": 4,
 "nbformat_minor": 2
}
