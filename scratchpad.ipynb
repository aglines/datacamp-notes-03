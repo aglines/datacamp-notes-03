{
 "cells": [
  {
   "cell_type": "code",
   "execution_count": null,
   "metadata": {},
   "outputs": [],
   "source": [
    "#SETUP IMPORTS\n",
    "import numpy as np\n",
    "import matplotlib\n",
    "import pandas as pd\n",
    "from matplotlib import pyplot as plt\n"
   ]
  },
  {
   "cell_type": "code",
   "execution_count": null,
   "metadata": {},
   "outputs": [],
   "source": [
    "office = pd.read_csv(\"datasets/office_episodes.csv\")\n",
    "office.set_index(\"episode_number\")\n",
    "\n",
    "office.iterrows(\"episode_number\")\n",
    "\n",
    "\n"
   ]
  }
 ],
 "metadata": {
  "kernelspec": {
   "display_name": "Python 3",
   "language": "python",
   "name": "python3"
  },
  "language_info": {
   "name": "python",
   "version": "3.10.8"
  },
  "orig_nbformat": 4,
  "vscode": {
   "interpreter": {
    "hash": "8e3df8c37403ba4b3c8bfde5a26f1f7f6e1b2866f6dc0cdafb75725c9232505a"
   }
  }
 },
 "nbformat": 4,
 "nbformat_minor": 2
}
